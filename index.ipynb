{
 "cells": [
  {
   "cell_type": "code",
   "execution_count": 27,
   "metadata": {},
   "outputs": [
    {
     "name": "stdout",
     "output_type": "stream",
     "text": [
      "Processing ./native-template\n",
      "  Installing build dependencies ... \u001b[?25ldone\n",
      "\u001b[?25h  Getting requirements to build wheel ... \u001b[?25ldone\n",
      "\u001b[?25h  Installing backend dependencies ... \u001b[?25ldone\n",
      "\u001b[?25h  Preparing metadata (pyproject.toml) ... \u001b[?25ldone\n",
      "\u001b[?25hProcessing ./numpy-template\n",
      "  Installing build dependencies ... \u001b[?25ldone\n",
      "\u001b[?25h  Getting requirements to build wheel ... \u001b[?25ldone\n",
      "\u001b[?25h  Installing backend dependencies ... \u001b[?25ldone\n",
      "\u001b[?25h  Preparing metadata (pyproject.toml) ... \u001b[?25ldone\n",
      "\u001b[?25hProcessing ./torch-template\n",
      "  Installing build dependencies ... \u001b[?25ldone\n",
      "\u001b[?25h  Getting requirements to build wheel ... \u001b[?25ldone\n",
      "\u001b[?25h  Installing backend dependencies ... \u001b[?25ldone\n",
      "\u001b[?25h  Preparing metadata (pyproject.toml) ... \u001b[?25ldone\n",
      "\u001b[?25hRequirement already satisfied: numpy==1.26.3 in ./.venv/lib/python3.10/site-packages (from numpy-template==1.0) (1.26.3)\n",
      "Requirement already satisfied: torch==2.1.0 in ./.venv/lib/python3.10/site-packages (from torch-template==1.0) (2.1.0)\n",
      "Requirement already satisfied: filelock in ./.venv/lib/python3.10/site-packages (from torch==2.1.0->torch-template==1.0) (3.13.1)\n",
      "Requirement already satisfied: typing-extensions in ./.venv/lib/python3.10/site-packages (from torch==2.1.0->torch-template==1.0) (4.9.0)\n",
      "Requirement already satisfied: sympy in ./.venv/lib/python3.10/site-packages (from torch==2.1.0->torch-template==1.0) (1.12)\n",
      "Requirement already satisfied: networkx in ./.venv/lib/python3.10/site-packages (from torch==2.1.0->torch-template==1.0) (3.2.1)\n",
      "Requirement already satisfied: jinja2 in ./.venv/lib/python3.10/site-packages (from torch==2.1.0->torch-template==1.0) (3.1.3)\n",
      "Requirement already satisfied: fsspec in ./.venv/lib/python3.10/site-packages (from torch==2.1.0->torch-template==1.0) (2023.12.2)\n",
      "Requirement already satisfied: nvidia-cuda-nvrtc-cu12==12.1.105 in ./.venv/lib/python3.10/site-packages (from torch==2.1.0->torch-template==1.0) (12.1.105)\n",
      "Requirement already satisfied: nvidia-cuda-runtime-cu12==12.1.105 in ./.venv/lib/python3.10/site-packages (from torch==2.1.0->torch-template==1.0) (12.1.105)\n",
      "Requirement already satisfied: nvidia-cuda-cupti-cu12==12.1.105 in ./.venv/lib/python3.10/site-packages (from torch==2.1.0->torch-template==1.0) (12.1.105)\n",
      "Requirement already satisfied: nvidia-cudnn-cu12==8.9.2.26 in ./.venv/lib/python3.10/site-packages (from torch==2.1.0->torch-template==1.0) (8.9.2.26)\n",
      "Requirement already satisfied: nvidia-cublas-cu12==12.1.3.1 in ./.venv/lib/python3.10/site-packages (from torch==2.1.0->torch-template==1.0) (12.1.3.1)\n",
      "Requirement already satisfied: nvidia-cufft-cu12==11.0.2.54 in ./.venv/lib/python3.10/site-packages (from torch==2.1.0->torch-template==1.0) (11.0.2.54)\n",
      "Requirement already satisfied: nvidia-curand-cu12==10.3.2.106 in ./.venv/lib/python3.10/site-packages (from torch==2.1.0->torch-template==1.0) (10.3.2.106)\n",
      "Requirement already satisfied: nvidia-cusolver-cu12==11.4.5.107 in ./.venv/lib/python3.10/site-packages (from torch==2.1.0->torch-template==1.0) (11.4.5.107)\n",
      "Requirement already satisfied: nvidia-cusparse-cu12==12.1.0.106 in ./.venv/lib/python3.10/site-packages (from torch==2.1.0->torch-template==1.0) (12.1.0.106)\n",
      "Requirement already satisfied: nvidia-nccl-cu12==2.18.1 in ./.venv/lib/python3.10/site-packages (from torch==2.1.0->torch-template==1.0) (2.18.1)\n",
      "Requirement already satisfied: nvidia-nvtx-cu12==12.1.105 in ./.venv/lib/python3.10/site-packages (from torch==2.1.0->torch-template==1.0) (12.1.105)\n",
      "Requirement already satisfied: triton==2.1.0 in ./.venv/lib/python3.10/site-packages (from torch==2.1.0->torch-template==1.0) (2.1.0)\n",
      "Requirement already satisfied: nvidia-nvjitlink-cu12 in ./.venv/lib/python3.10/site-packages (from nvidia-cusolver-cu12==11.4.5.107->torch==2.1.0->torch-template==1.0) (12.3.101)\n",
      "Requirement already satisfied: MarkupSafe>=2.0 in ./.venv/lib/python3.10/site-packages (from jinja2->torch==2.1.0->torch-template==1.0) (2.1.5)\n",
      "Requirement already satisfied: mpmath>=0.19 in ./.venv/lib/python3.10/site-packages (from sympy->torch==2.1.0->torch-template==1.0) (1.3.0)\n",
      "Building wheels for collected packages: native-template, numpy-template, torch-template\n",
      "  Building wheel for native-template (pyproject.toml) ... \u001b[?25ldone\n",
      "\u001b[?25h  Created wheel for native-template: filename=native_template-1.0-cp310-cp310-linux_x86_64.whl size=1045120 sha256=eb679794693b460372f44a9773363a1f34f18cb24007cc896b2b07021803b1e5\n",
      "  Stored in directory: /home/sbertrand/.cache/pip/wheels/1b/4e/a1/43ee3b6ad1d69a94c85da6b1c3e078055e375f0876c71f924b\n",
      "  Building wheel for numpy-template (pyproject.toml) ... \u001b[?25ldone\n",
      "\u001b[?25h  Created wheel for numpy-template: filename=numpy_template-1.0-cp310-cp310-linux_x86_64.whl size=1086111 sha256=9d4bc0f17f00d3a8aa41b60f596eefcb527f496d22bae2dad27639567a938610\n",
      "  Stored in directory: /home/sbertrand/.cache/pip/wheels/02/c6/54/94d56c6a91121b07486082616ed898ccaa7fd4ddc9d731628d\n",
      "  Building wheel for torch-template (pyproject.toml) ... \u001b[?25ldone\n",
      "\u001b[?25h  Created wheel for torch-template: filename=torch_template-1.0-cp310-cp310-linux_x86_64.whl size=1155501 sha256=12a51f3b2cfe39a253932b301d1aa2e82d13ab844f66b52cdf958900985251f8\n",
      "  Stored in directory: /home/sbertrand/.cache/pip/wheels/6b/3f/38/e8d60eb8b523ddbe1b66c470a0401f577f0479a42732191d9d\n",
      "Successfully built native-template numpy-template torch-template\n",
      "Installing collected packages: native-template, numpy-template, torch-template\n",
      "  Attempting uninstall: native-template\n",
      "    Found existing installation: native-template 1.0\n",
      "    Uninstalling native-template-1.0:\n",
      "      Successfully uninstalled native-template-1.0\n",
      "  Attempting uninstall: numpy-template\n",
      "    Found existing installation: numpy-template 1.0\n",
      "    Uninstalling numpy-template-1.0:\n",
      "      Successfully uninstalled numpy-template-1.0\n",
      "  Attempting uninstall: torch-template\n",
      "    Found existing installation: torch-template 1.0\n",
      "    Uninstalling torch-template-1.0:\n",
      "      Successfully uninstalled torch-template-1.0\n",
      "Successfully installed native-template-1.0 numpy-template-1.0 torch-template-1.0\n",
      "\n",
      "\u001b[1m[\u001b[0m\u001b[34;49mnotice\u001b[0m\u001b[1;39;49m]\u001b[0m\u001b[39;49m A new release of pip is available: \u001b[0m\u001b[31;49m23.2.1\u001b[0m\u001b[39;49m -> \u001b[0m\u001b[32;49m24.0\u001b[0m\n",
      "\u001b[1m[\u001b[0m\u001b[34;49mnotice\u001b[0m\u001b[1;39;49m]\u001b[0m\u001b[39;49m To update, run: \u001b[0m\u001b[32;49mpip install --upgrade pip\u001b[0m\n"
     ]
    }
   ],
   "source": [
    "!pip install ./native-template ./numpy-template ./torch-template\n",
    "print('Calling code from compiled Rust')\n",
    "import native_template\n",
    "assert native_template.hello_world()==\"Hello World\"\n",
    "import numpy_template, numpy as np\n",
    "assert (numpy_template.eye(15) == np.eye(15)).all()\n",
    "import torch_template, torch\n",
    "assert (torch.arange(10) + 1 == torch_template.add_one(torch.arange(10))).all()"
   ]
  }
 ],
 "metadata": {
  "kernelspec": {
   "display_name": ".venv",
   "language": "python",
   "name": "python3"
  },
  "language_info": {
   "codemirror_mode": {
    "name": "ipython",
    "version": 3
   },
   "file_extension": ".py",
   "mimetype": "text/x-python",
   "name": "python",
   "nbconvert_exporter": "python",
   "pygments_lexer": "ipython3",
   "version": "3.10.13"
  }
 },
 "nbformat": 4,
 "nbformat_minor": 2
}
